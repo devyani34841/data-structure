{
  "nbformat": 4,
  "nbformat_minor": 0,
  "metadata": {
    "colab": {
      "provenance": []
    },
    "kernelspec": {
      "name": "python3",
      "display_name": "Python 3"
    },
    "language_info": {
      "name": "python"
    }
  },
  "cells": [
    {
      "cell_type": "markdown",
      "source": [
        "1.What are data Structures,and why are they important                                                                            \n",
        "Ans.Data structures are ways of organizing and storing data so that they can be used efficiently. They help in managing and processing data effectively in programs. why they are important:Efficient Data Management They help in storing and accessing data efficiently. Code Optimization Well-structured data makes code cleaner and more maintainable."
      ],
      "metadata": {
        "id": "x9D19QTd6KOw"
      }
    },
    {
      "cell_type": "markdown",
      "source": [
        "2.Explain the difference between mutable and immutable data types with examples                                  \n",
        "Ans.Mutable:Can be changed after creation,Values can be modified,example:list, dict, set,Uses the same memory location when modified\n",
        "immutable:Cannot be changed after creation,example:str, tuple,Creates a new memory location when modified"
      ],
      "metadata": {
        "id": "zuwIBIDN6kGO"
      }
    },
    {
      "cell_type": "markdown",
      "source": [
        "3.what are the main difference between lists and tuples in pyhon                                      \n",
        " Ans.list:Ordered, mutable collection,Can be modified (add, remove, change elements),Created using [] (square brackets),Slower (because it allows modifications)                             Tuples:Ordered, immutable collection,Cannot be modified after creation,Created using () (parentheses),Faster (because it is fixed)\n"
      ],
      "metadata": {
        "id": "wKFTuBRi8Lbo"
      }
    },
    {
      "cell_type": "markdown",
      "source": [
        "4.Describe How dictionaries Store data  \n",
        "Ans.A dictionary (dict) in Python stores data as key-value pairs using a hashing mechanism for fast access.Keys are unique and act as an index to access values.\n",
        "Values can be any data type (numbers, strings, lists, etc.)."
      ],
      "metadata": {
        "id": "D_UVJTPT9Waq"
      }
    },
    {
      "cell_type": "markdown",
      "source": [
        "5.why might you use a set instead of a list in python\n",
        "                                       \n",
        "Ans: set is an unordered collection of unique elements, while a list allows duplicates. You might use a set instead of a list,Sets automatically remove duplicates, whereas lists keep them."
      ],
      "metadata": {
        "id": "Ai_GGRm79-DE"
      }
    },
    {
      "cell_type": "markdown",
      "source": [
        "6.What is a string in python and how is it differnt from a list                                        \n",
        " Ans.A string (str) in Python is a sequence of characters,It is immutable, meaning it cannot be changed after creation.list:Sequence of elements (any type)Mutable (Can modify elements)"
      ],
      "metadata": {
        "id": "VYlZ1s9X-uqV"
      }
    },
    {
      "cell_type": "markdown",
      "source": [
        "7.How do tuples ensure data integrity in python                                      \n",
        "Ans.Tuples ensure data integrity because they are immutable, meaning once created, they cannot be changed. This prevents accidental modifications and maintains consistency in data.Tuples ensure data integrity by preventing modifications, making them ideal for constant data storage, dictionary keys, and performance optimization."
      ],
      "metadata": {
        "id": "nMl5_rF1_ZQe"
      }
    },
    {
      "cell_type": "markdown",
      "source": [
        "8.What is a hash table and how does it relate to dictionaries in python\n",
        "\n",
        "Ans.A hash table is a data structure that stores key-value pairs and allows fast retrieval using a hash function. It maps keys to unique hash values, which determine where data is stored in memory."
      ],
      "metadata": {
        "id": "KQzRdB3OAMNg"
      }
    },
    {
      "cell_type": "markdown",
      "source": [
        "9.can list contain differnt data types in python\n",
        "\n",
        "Ans.Yes A list in Python can store different data types (integers, strings, floats, booleans, lists, dictionaries, etc.)."
      ],
      "metadata": {
        "id": "Q5K0IYr7AiDr"
      }
    },
    {
      "cell_type": "markdown",
      "source": [
        "10.Explain why strings are immutable in python                                    \n",
        "\n",
        "Ans.Memory Efficiency (String Interning)\n",
        "\n",
        "Python optimizes memory usage by reusing immutable string objects, reducing redundancy.Security & Integrity\n",
        "\n",
        "Since strings are widely used in passwords, configurations, and identifiers, immutability prevents accidental modifications and security vulnerabilities"
      ],
      "metadata": {
        "id": "EcsqiEXkAzlc"
      }
    },
    {
      "cell_type": "markdown",
      "source": [
        "11.What advantages do dictionaries offer over lists for certain tasks\n",
        "\n",
        "Ans.Key-Value Pair Storage\n",
        "Dictionaries store data in key-value pairs, making data more structured and easier to access.\n",
        "Lists store elements in an indexed manner, requiring position-based access.\n",
        "No Need for Indexing\n",
        "In lists, accessing elements requires knowing the index.\n",
        "In dictionaries, elements are accessed using meaningful keys, improving readability."
      ],
      "metadata": {
        "id": "DT8_uCfKBVB1"
      }
    },
    {
      "cell_type": "markdown",
      "source": [
        "12.Describe a scenario where using a tuple would be preferable over a list\n",
        "\n",
        "Ans.A tuple is preferable when you want to store data that should remain constant throughout the program."
      ],
      "metadata": {
        "id": "1CzTORPJCgGN"
      }
    },
    {
      "cell_type": "markdown",
      "source": [
        "13..How do sets handle duplicate values in python                                 \n",
        "\n",
        "Ans..How do sets handle duplicate values in python  Sets Automatically Remove Duplicates When you add duplicate values to a set, Python keeps only unique elements and removes duplicates automatically.Sets prevent duplicates automatically by using a hash table, making them ideal for storing unique values and removing duplicates from a list."
      ],
      "metadata": {
        "id": "AkR961WeDOwd"
      }
    },
    {
      "cell_type": "markdown",
      "source": [
        "14.How does the \"in\"keyword work differntly for list and dictionaies                 \n",
        "\n",
        "Ans.In Dictionaries Checks for Keys\n",
        "The in keyword checks for the presence of a key, not a value.\n",
        "n List Checks for Values\n",
        "The in keyword searches for a value in a list."
      ],
      "metadata": {
        "id": "D3hKauRBDzKP"
      }
    },
    {
      "cell_type": "markdown",
      "source": [
        "15.can you modify the elements of a tuple?exaplin why or why not       \n",
        "ans:Once created, their elements cannot be changed, added, or removed.Data Integrity – Prevents accidental modifications to critical data (e.g., database configurations).\n",
        "Hashability – Since tuples don’t change, they can be used as dictionary keys and set elements."
      ],
      "metadata": {
        "id": "wYJDUnmFEWPN"
      }
    },
    {
      "cell_type": "markdown",
      "source": [
        "16.What is a nested dictionary and give an example of its use code.  \n",
        "Ans.A nested dictionary is a dictionary that contains another dictionary as a value. It is useful for storing structured data, like student records, employee details, or JSON data.\n"
      ],
      "metadata": {
        "id": "J4Yxak5lEziV"
      }
    },
    {
      "cell_type": "markdown",
      "source": [
        "17.Describe the time complexity of accessinh elements in a dictionary  \n",
        "ans.Accessing an element in a dictionary is very fast because it takes roughly the same amount of time no matter how many items are in it. This is often called \"constant time\" access.\n"
      ],
      "metadata": {
        "id": "JJKc9ojuFJHj"
      }
    },
    {
      "cell_type": "markdown",
      "source": [
        "18.in what situations are lists preferred over dictionaries          \n",
        "Ans.Maintaining Order – Lists keep elements in the order they were added, while dictionaries (before Python 3.7) did not.2. Sequential Data – When storing simple, ordered collections like a list of numbers, names, or tasks.3. Iteration Simplicity – Lists are easier to loop through when you don’t need key-value pairs."
      ],
      "metadata": {
        "id": "Nq1XksXsFrzT"
      }
    },
    {
      "cell_type": "markdown",
      "source": [
        "19.Why are dictinaries considered unordered and how does that affect data retrival   \n",
        "Ans.Before Python 3.7, dictionaries did not maintain the order of items as they were added because they used a hash table for fast lookups.From Python 3.7 onwards, dictionaries preserve insertion order, but they are still optimized for fast access, not sequential storage like lists."
      ],
      "metadata": {
        "id": "L9g3d-0YGAi6"
      }
    },
    {
      "cell_type": "markdown",
      "source": [
        "20.Explain the difference between a list and dictionary in terms of data retrival   \n",
        "Ans.Retrieval Method List: Access elements by index (position).\n",
        "Dictionary: Access elements by key (name/identifier).Retrieval Speed\n",
        "List: Slower for searching (O(n)) because it scans elements one by one.\n",
        "Dictionary: Faster (O(1)) because it uses a hash table for direct key lookup."
      ],
      "metadata": {
        "id": "ceZCukYBGVis"
      }
    },
    {
      "cell_type": "markdown",
      "source": [
        "Practical Questions:"
      ],
      "metadata": {
        "id": "bBZxThlZETSn"
      }
    },
    {
      "cell_type": "markdown",
      "source": [
        "1.Write a code to create a string with your name"
      ],
      "metadata": {
        "id": "j2H8BPRrIY9h"
      }
    },
    {
      "cell_type": "code",
      "source": [
        "my_name=\"Devyani Deore\"\n",
        "my_name"
      ],
      "metadata": {
        "colab": {
          "base_uri": "https://localhost:8080/",
          "height": 36
        },
        "id": "vYgHNOh0IIji",
        "outputId": "4c2bd44d-a26b-4a84-c6c0-b49183bc6fe4"
      },
      "execution_count": null,
      "outputs": [
        {
          "output_type": "execute_result",
          "data": {
            "text/plain": [
              "'Devyani Deore'"
            ],
            "application/vnd.google.colaboratory.intrinsic+json": {
              "type": "string"
            }
          },
          "metadata": {},
          "execution_count": 1
        }
      ]
    },
    {
      "cell_type": "markdown",
      "source": [
        "2.Write a Code to find the length of the string\"Hello World\""
      ],
      "metadata": {
        "id": "ZQD4Rd9NIhxS"
      }
    },
    {
      "cell_type": "code",
      "source": [
        "name=\"Hello World\"\n",
        "len(name)"
      ],
      "metadata": {
        "colab": {
          "base_uri": "https://localhost:8080/"
        },
        "id": "spE2awU-IW9C",
        "outputId": "5215a4bd-9e77-4056-8895-e0b2333f9dd1"
      },
      "execution_count": null,
      "outputs": [
        {
          "output_type": "execute_result",
          "data": {
            "text/plain": [
              "11"
            ]
          },
          "metadata": {},
          "execution_count": 2
        }
      ]
    },
    {
      "cell_type": "markdown",
      "source": [
        "3.write a code to slice the first 3 character from the string \"python programming\""
      ],
      "metadata": {
        "id": "sV5q4UmqI6Pd"
      }
    },
    {
      "cell_type": "code",
      "source": [
        "name=\"Python Programming\"\n",
        "name[:3]"
      ],
      "metadata": {
        "colab": {
          "base_uri": "https://localhost:8080/",
          "height": 36
        },
        "id": "KVWRgz2pJFQw",
        "outputId": "b9d57ce3-1ba0-4de6-92f2-a355fd37e695"
      },
      "execution_count": null,
      "outputs": [
        {
          "output_type": "execute_result",
          "data": {
            "text/plain": [
              "'Pyt'"
            ],
            "application/vnd.google.colaboratory.intrinsic+json": {
              "type": "string"
            }
          },
          "metadata": {},
          "execution_count": 4
        }
      ]
    },
    {
      "cell_type": "markdown",
      "source": [
        "4.Write a code to convert the string \"hello\" to uppercase"
      ],
      "metadata": {
        "id": "9vIu8qX_JVGN"
      }
    },
    {
      "cell_type": "code",
      "source": [
        "name=\"hello\"\n",
        "name.upper()"
      ],
      "metadata": {
        "colab": {
          "base_uri": "https://localhost:8080/",
          "height": 36
        },
        "id": "hdEKKm0zI1u1",
        "outputId": "93683c96-8ae8-4cb0-90a1-43485686bdca"
      },
      "execution_count": null,
      "outputs": [
        {
          "output_type": "execute_result",
          "data": {
            "text/plain": [
              "'HELLO'"
            ],
            "application/vnd.google.colaboratory.intrinsic+json": {
              "type": "string"
            }
          },
          "metadata": {},
          "execution_count": 6
        }
      ]
    },
    {
      "cell_type": "markdown",
      "source": [
        "5.write a code to replace the word \"apple with \"orange\" in the string \"i like apple\"\n"
      ],
      "metadata": {
        "id": "VTq3-CTSJiqq"
      }
    },
    {
      "cell_type": "code",
      "source": [
        "name=\"i like apple\"\n",
        "name.replace(\"apple\",\"orange\")"
      ],
      "metadata": {
        "colab": {
          "base_uri": "https://localhost:8080/",
          "height": 36
        },
        "id": "JPbb2Wq8Jz5x",
        "outputId": "511da990-8141-4652-951e-e6f66d5542f2"
      },
      "execution_count": null,
      "outputs": [
        {
          "output_type": "execute_result",
          "data": {
            "text/plain": [
              "'i like orange'"
            ],
            "application/vnd.google.colaboratory.intrinsic+json": {
              "type": "string"
            }
          },
          "metadata": {},
          "execution_count": 10
        }
      ]
    },
    {
      "cell_type": "markdown",
      "source": [
        "6.Write a code to create a list with numbers 1 to 5 and print it"
      ],
      "metadata": {
        "id": "YXCeCO8gKROy"
      }
    },
    {
      "cell_type": "code",
      "source": [
        "list1=[1,2,3,4,5]\n",
        "list1"
      ],
      "metadata": {
        "colab": {
          "base_uri": "https://localhost:8080/"
        },
        "id": "QbFYpWl2KbYD",
        "outputId": "991f8052-13c5-4c94-a3cb-be48d03540c6"
      },
      "execution_count": null,
      "outputs": [
        {
          "output_type": "execute_result",
          "data": {
            "text/plain": [
              "[1, 2, 3, 4, 5]"
            ]
          },
          "metadata": {},
          "execution_count": 11
        }
      ]
    },
    {
      "cell_type": "markdown",
      "source": [
        "7.Write  a code to append the number 10 to the list [1,2,3,4,5]"
      ],
      "metadata": {
        "id": "42cRFnrEKiqr"
      }
    },
    {
      "cell_type": "code",
      "source": [
        "list1=[1,2,3,4,5]\n",
        "list1.append(10)\n",
        "list1"
      ],
      "metadata": {
        "id": "pkbj14HmLFcU",
        "colab": {
          "base_uri": "https://localhost:8080/"
        },
        "outputId": "fa050770-0ba4-40cf-fe76-72790263f4c4"
      },
      "execution_count": 18,
      "outputs": [
        {
          "output_type": "execute_result",
          "data": {
            "text/plain": [
              "[1, 2, 3, 4, 5, 10]"
            ]
          },
          "metadata": {},
          "execution_count": 18
        }
      ]
    },
    {
      "cell_type": "markdown",
      "source": [
        "8.write a code to remove the number 3 from list [1,2,3,4,5]"
      ],
      "metadata": {
        "id": "OdKWI90NLYWO"
      }
    },
    {
      "cell_type": "code",
      "source": [
        "list1=[1,2,3,4,5]\n",
        "list1.remove(3)\n",
        "list1"
      ],
      "metadata": {
        "colab": {
          "base_uri": "https://localhost:8080/"
        },
        "id": "30dJXVr-Lj_H",
        "outputId": "1ade1c5c-9905-487f-d7ee-2eb1694262af"
      },
      "execution_count": 19,
      "outputs": [
        {
          "output_type": "execute_result",
          "data": {
            "text/plain": [
              "[1, 2, 4, 5]"
            ]
          },
          "metadata": {},
          "execution_count": 19
        }
      ]
    },
    {
      "cell_type": "markdown",
      "source": [
        "9.Write a code to acess the second elements in tha list['a','b','c','d']"
      ],
      "metadata": {
        "id": "HRXTlXUwLrnQ"
      }
    },
    {
      "cell_type": "code",
      "source": [
        "list1=['a','b','c','d',]\n",
        "list1[1]"
      ],
      "metadata": {
        "colab": {
          "base_uri": "https://localhost:8080/",
          "height": 36
        },
        "id": "3F1qmS3HL4iW",
        "outputId": "1e53dd9f-383a-4b6a-8ba5-223723a53b05"
      },
      "execution_count": 20,
      "outputs": [
        {
          "output_type": "execute_result",
          "data": {
            "text/plain": [
              "'b'"
            ],
            "application/vnd.google.colaboratory.intrinsic+json": {
              "type": "string"
            }
          },
          "metadata": {},
          "execution_count": 20
        }
      ]
    },
    {
      "cell_type": "markdown",
      "source": [
        "10.write a code to reverse the list [10,20,30,40,50]"
      ],
      "metadata": {
        "id": "lUKFn6_RMFG2"
      }
    },
    {
      "cell_type": "code",
      "source": [
        "list1=[10,20,30,40,50]\n",
        "list1.reverse()\n",
        "list1"
      ],
      "metadata": {
        "colab": {
          "base_uri": "https://localhost:8080/"
        },
        "id": "QjQLISxTML48",
        "outputId": "3c6975a1-3660-43c4-9cdd-bb17564b3a92"
      },
      "execution_count": 21,
      "outputs": [
        {
          "output_type": "execute_result",
          "data": {
            "text/plain": [
              "[50, 40, 30, 20, 10]"
            ]
          },
          "metadata": {},
          "execution_count": 21
        }
      ]
    },
    {
      "cell_type": "markdown",
      "source": [
        "11.Write a code to create tuple with elements 100,200,300,and print it"
      ],
      "metadata": {
        "id": "qP1ePeXoM997"
      }
    },
    {
      "cell_type": "code",
      "source": [
        "t=(100,200,300)\n",
        "t"
      ],
      "metadata": {
        "colab": {
          "base_uri": "https://localhost:8080/"
        },
        "id": "dq8YlC_TLQkI",
        "outputId": "d7b7b717-dbcc-4d81-9109-332fb871d232"
      },
      "execution_count": 22,
      "outputs": [
        {
          "output_type": "execute_result",
          "data": {
            "text/plain": [
              "(100, 200, 300)"
            ]
          },
          "metadata": {},
          "execution_count": 22
        }
      ]
    },
    {
      "cell_type": "markdown",
      "source": [
        "12.Write a code to access the second to last elemnts of tuple ('red','green','blue','yellow')"
      ],
      "metadata": {
        "id": "-Ls6CB-aNRp-"
      }
    },
    {
      "cell_type": "code",
      "source": [
        "t1=(\"red\",\"green\",\"blue\",\"yellow\")\n",
        "t1[1:4]"
      ],
      "metadata": {
        "colab": {
          "base_uri": "https://localhost:8080/"
        },
        "id": "q6v2RStKNPcS",
        "outputId": "47820dba-869c-4b69-dd25-cdabd60e957b"
      },
      "execution_count": 25,
      "outputs": [
        {
          "output_type": "execute_result",
          "data": {
            "text/plain": [
              "('green', 'blue', 'yellow')"
            ]
          },
          "metadata": {},
          "execution_count": 25
        }
      ]
    },
    {
      "cell_type": "markdown",
      "source": [
        "13.Write a code to find the minimum number in the tuple(10,20,5,15)"
      ],
      "metadata": {
        "id": "UsCpKxNHN3kZ"
      }
    },
    {
      "cell_type": "code",
      "source": [
        "t2=(10,20,5,15)\n",
        "min(t2)"
      ],
      "metadata": {
        "colab": {
          "base_uri": "https://localhost:8080/"
        },
        "id": "QUfw5hUjNvRC",
        "outputId": "d6828fee-fbb3-4b08-a8a2-4cfa803dbc15"
      },
      "execution_count": 30,
      "outputs": [
        {
          "output_type": "execute_result",
          "data": {
            "text/plain": [
              "5"
            ]
          },
          "metadata": {},
          "execution_count": 30
        }
      ]
    },
    {
      "cell_type": "markdown",
      "source": [
        "14.Write a code to find the index element \"cat\" in the tuple('dog','cat','rabbit')"
      ],
      "metadata": {
        "id": "qAtsrd8kOfw4"
      }
    },
    {
      "cell_type": "code",
      "source": [
        "t3=(\"dog\",\"cat\",\"rabbit\")\n",
        "t3.index(\"cat\")"
      ],
      "metadata": {
        "colab": {
          "base_uri": "https://localhost:8080/"
        },
        "id": "9mWyOfBROvkf",
        "outputId": "2366e94d-f835-4524-c9c6-8a3c304396d6"
      },
      "execution_count": 31,
      "outputs": [
        {
          "output_type": "execute_result",
          "data": {
            "text/plain": [
              "1"
            ]
          },
          "metadata": {},
          "execution_count": 31
        }
      ]
    },
    {
      "cell_type": "markdown",
      "source": [
        "15.Write a code to create a tuple containig three differnt fruits and check if \"kiwi\"is in it"
      ],
      "metadata": {
        "id": "2bSGZ8_BO8AJ"
      }
    },
    {
      "cell_type": "code",
      "source": [
        "fruits=(\"apple\",\"banana\",\"kiwi\")\n",
        "\"kiwi\" in fruits"
      ],
      "metadata": {
        "colab": {
          "base_uri": "https://localhost:8080/"
        },
        "id": "Cl5wJ9uBOKfR",
        "outputId": "561c68dc-400a-4f6c-c280-a454b0c489df"
      },
      "execution_count": 34,
      "outputs": [
        {
          "output_type": "execute_result",
          "data": {
            "text/plain": [
              "True"
            ]
          },
          "metadata": {},
          "execution_count": 34
        }
      ]
    },
    {
      "cell_type": "markdown",
      "source": [
        "16.write a code to create a set with the elements['a','b','c]"
      ],
      "metadata": {
        "id": "kxaZUNWSPoyR"
      }
    },
    {
      "cell_type": "code",
      "source": [
        "set1={\"a\",\"b\",\"c\"}\n",
        "set1"
      ],
      "metadata": {
        "colab": {
          "base_uri": "https://localhost:8080/"
        },
        "id": "_amn_nLIPkyZ",
        "outputId": "8a4cefb9-b1c9-4d5d-cee8-f4ae03c057d7"
      },
      "execution_count": 37,
      "outputs": [
        {
          "output_type": "execute_result",
          "data": {
            "text/plain": [
              "{'a', 'b', 'c'}"
            ]
          },
          "metadata": {},
          "execution_count": 37
        }
      ]
    },
    {
      "cell_type": "markdown",
      "source": [
        "17.Write a code to clear all elements from the set{1,2,3,4,5}"
      ],
      "metadata": {
        "id": "pSGOd0hOQFRQ"
      }
    },
    {
      "cell_type": "code",
      "source": [
        "set2={1,2,3,4,5}\n",
        "set2.clear()\n",
        "set2"
      ],
      "metadata": {
        "colab": {
          "base_uri": "https://localhost:8080/"
        },
        "id": "mCjqOInSP_PP",
        "outputId": "8e4ecaf5-02cb-4653-8b91-730067c000be"
      },
      "execution_count": 39,
      "outputs": [
        {
          "output_type": "execute_result",
          "data": {
            "text/plain": [
              "set()"
            ]
          },
          "metadata": {},
          "execution_count": 39
        }
      ]
    },
    {
      "cell_type": "markdown",
      "source": [
        "18.Write a code to remove the elements 4 from set {1,2,3,4,}"
      ],
      "metadata": {
        "id": "yjBTzOxHQfpE"
      }
    },
    {
      "cell_type": "code",
      "source": [
        "set3={1,2,3,4}\n",
        "set3.remove(4)\n",
        "set3"
      ],
      "metadata": {
        "colab": {
          "base_uri": "https://localhost:8080/"
        },
        "id": "pP-JTHHAQb6s",
        "outputId": "275307ff-9a15-4d3a-ad52-9b418c078af9"
      },
      "execution_count": 45,
      "outputs": [
        {
          "output_type": "execute_result",
          "data": {
            "text/plain": [
              "{1, 2, 3}"
            ]
          },
          "metadata": {},
          "execution_count": 45
        }
      ]
    },
    {
      "cell_type": "markdown",
      "source": [
        "19.Write a code to find the union of two sets{1,2,3} and {3,4,5}"
      ],
      "metadata": {
        "id": "bnKQyt1xRVkQ"
      }
    },
    {
      "cell_type": "code",
      "source": [
        "set1={1,2,3}\n",
        "set2={3,4,5}\n",
        "set1|set2"
      ],
      "metadata": {
        "colab": {
          "base_uri": "https://localhost:8080/"
        },
        "id": "QxlJe64-Q3mY",
        "outputId": "cd14c8a6-816c-42c8-aa1e-09356842634b"
      },
      "execution_count": 48,
      "outputs": [
        {
          "output_type": "execute_result",
          "data": {
            "text/plain": [
              "{1, 2, 3, 4, 5}"
            ]
          },
          "metadata": {},
          "execution_count": 48
        }
      ]
    },
    {
      "cell_type": "markdown",
      "source": [
        "20.Write a code to find the intersection of two sets{1,2,3} and {2,3,4}"
      ],
      "metadata": {
        "id": "aPtZdZtgR2Oj"
      }
    },
    {
      "cell_type": "code",
      "source": [
        "set1={1,2,3}\n",
        "set2={2,3,4}\n",
        "set1&set2"
      ],
      "metadata": {
        "colab": {
          "base_uri": "https://localhost:8080/"
        },
        "id": "Km80bKuxRqSm",
        "outputId": "d0836a2d-50f4-4efc-ca66-01e998753df0"
      },
      "execution_count": 50,
      "outputs": [
        {
          "output_type": "execute_result",
          "data": {
            "text/plain": [
              "{2, 3}"
            ]
          },
          "metadata": {},
          "execution_count": 50
        }
      ]
    },
    {
      "cell_type": "markdown",
      "source": [
        "21.write a code to create a dictinary with keys \"name\",\"age\",city and print"
      ],
      "metadata": {
        "id": "F8MYfWMDSTOY"
      }
    },
    {
      "cell_type": "code",
      "source": [
        "dict1={\"name\":\"Devyani\",\"age\":20,\"city\":\"Dhule\"}\n",
        "dict1"
      ],
      "metadata": {
        "colab": {
          "base_uri": "https://localhost:8080/"
        },
        "id": "HoIp5vY2SLYa",
        "outputId": "df32f18d-6a28-4b36-cc4d-6c59a59277e6"
      },
      "execution_count": 51,
      "outputs": [
        {
          "output_type": "execute_result",
          "data": {
            "text/plain": [
              "{'name': 'Devyani', 'age': 20, 'city': 'Dhule'}"
            ]
          },
          "metadata": {},
          "execution_count": 51
        }
      ]
    },
    {
      "cell_type": "markdown",
      "source": [
        "22.Write a code to add a new key-value pair\"country\":\"USA\"to the dictionary{'name:'john','age':25}"
      ],
      "metadata": {
        "id": "z3yM1HemS42N"
      }
    },
    {
      "cell_type": "code",
      "source": [
        "dict1[\"country\"] = \"USA\"\n",
        "dict1"
      ],
      "metadata": {
        "colab": {
          "base_uri": "https://localhost:8080/"
        },
        "id": "SlL57D-4S2U7",
        "outputId": "c14c880a-1b4a-45dc-e39d-d35ed76e8ab4"
      },
      "execution_count": 57,
      "outputs": [
        {
          "output_type": "execute_result",
          "data": {
            "text/plain": [
              "{'name': 'Devyani', 'age': 20, 'city': 'Dhule', 'country': 'USA'}"
            ]
          },
          "metadata": {},
          "execution_count": 57
        }
      ]
    },
    {
      "cell_type": "markdown",
      "source": [
        "23.Write a code to access the value associated with the key \"name\" in the dictionary 'name:' in the dictionary{'name':'Alice','age'}"
      ],
      "metadata": {
        "id": "xdKhhvdZT0Sn"
      }
    },
    {
      "cell_type": "code",
      "source": [
        "dict2={\"name\":\"Alice\",\"age\":30}\n",
        "dict2[\"name\"]"
      ],
      "metadata": {
        "colab": {
          "base_uri": "https://localhost:8080/",
          "height": 36
        },
        "id": "jokk_i-RTUCB",
        "outputId": "e19c32b5-9464-4389-c8bb-24d3584307fd"
      },
      "execution_count": 1,
      "outputs": [
        {
          "output_type": "execute_result",
          "data": {
            "text/plain": [
              "'Alice'"
            ],
            "application/vnd.google.colaboratory.intrinsic+json": {
              "type": "string"
            }
          },
          "metadata": {},
          "execution_count": 1
        }
      ]
    },
    {
      "cell_type": "markdown",
      "source": [
        "24.Write a code to remove the key \"age\" from the dictionary{'name':'bob','age':22,'city':'new york'"
      ],
      "metadata": {
        "id": "rz7SS4a22mGI"
      }
    },
    {
      "cell_type": "code",
      "source": [
        "dict3={\"name\":\"bob\",\"age\":22,\"city\":\"new york\"}\n",
        "dict3.pop(\"age\")\n",
        "dict3"
      ],
      "metadata": {
        "colab": {
          "base_uri": "https://localhost:8080/"
        },
        "id": "W_ImtQrT2byp",
        "outputId": "3dac44aa-263d-461b-c4e5-3d2c16530e1f"
      },
      "execution_count": 6,
      "outputs": [
        {
          "output_type": "execute_result",
          "data": {
            "text/plain": [
              "{'name': 'bob', 'city': 'new york'}"
            ]
          },
          "metadata": {},
          "execution_count": 6
        }
      ]
    },
    {
      "cell_type": "markdown",
      "source": [
        "25.Write a code to check if the key 'city' exists in the dictionary {'name':'alice','city':'paris'}"
      ],
      "metadata": {
        "id": "m41gYvbC3ozO"
      }
    },
    {
      "cell_type": "code",
      "source": [
        "dict4={'name':'alice','city':'paris'}\n",
        "\"city\" in dict4"
      ],
      "metadata": {
        "colab": {
          "base_uri": "https://localhost:8080/"
        },
        "id": "IidPpuMY3R_L",
        "outputId": "84b9bac3-3cdc-4ae9-ec4f-a4a334a5c117"
      },
      "execution_count": 7,
      "outputs": [
        {
          "output_type": "execute_result",
          "data": {
            "text/plain": [
              "True"
            ]
          },
          "metadata": {},
          "execution_count": 7
        }
      ]
    },
    {
      "cell_type": "markdown",
      "source": [
        "26.Write a code to create a list,a tuple,and a dictionary and print them all"
      ],
      "metadata": {
        "id": "CDcCbagK5CXj"
      }
    },
    {
      "cell_type": "code",
      "source": [
        "list1=[\"Devyani\",\"Deore\",26]\n",
        "list1\n",
        "tuple1=(1,2,3,4)\n",
        "tuple1\n",
        "dict1={\"name\":\"Devyani\",\"age\":26}\n",
        "dict1"
      ],
      "metadata": {
        "colab": {
          "base_uri": "https://localhost:8080/"
        },
        "id": "sw5uuMwQ4-gK",
        "outputId": "352fdf93-de06-484c-8ebb-ee0934761c30"
      },
      "execution_count": 8,
      "outputs": [
        {
          "output_type": "execute_result",
          "data": {
            "text/plain": [
              "{'name': 'Devyani', 'age': 26}"
            ]
          },
          "metadata": {},
          "execution_count": 8
        }
      ]
    },
    {
      "cell_type": "markdown",
      "source": [
        "27.Write a code to create a list of 5 random numbers between 1 and 100,sort it in ascending order and print the result(replaced)"
      ],
      "metadata": {
        "id": "3QuXVLFU5ihX"
      }
    },
    {
      "cell_type": "code",
      "source": [
        "list1=[1,50,34,70,45]\n",
        "sorted(list1)"
      ],
      "metadata": {
        "colab": {
          "base_uri": "https://localhost:8080/"
        },
        "id": "D6LYEgDa5gQo",
        "outputId": "125663bf-7fd0-40e1-ea7c-b6e0566fbbb9"
      },
      "execution_count": 10,
      "outputs": [
        {
          "output_type": "execute_result",
          "data": {
            "text/plain": [
              "[1, 34, 45, 50, 70]"
            ]
          },
          "metadata": {},
          "execution_count": 10
        }
      ]
    },
    {
      "cell_type": "markdown",
      "source": [
        "28.Write a code to create a list with strings and print the elements at the third index"
      ],
      "metadata": {
        "id": "hxMxmb0-6KZp"
      }
    },
    {
      "cell_type": "code",
      "source": [
        "my_list=[\"apple\",\"banana\",\"orange\",\"chiku\"]\n",
        "my_list[3]"
      ],
      "metadata": {
        "colab": {
          "base_uri": "https://localhost:8080/",
          "height": 36
        },
        "id": "5-AF8NzP6Efq",
        "outputId": "05d979d2-d523-43dd-95ab-6773c9962cf4"
      },
      "execution_count": 12,
      "outputs": [
        {
          "output_type": "execute_result",
          "data": {
            "text/plain": [
              "'chiku'"
            ],
            "application/vnd.google.colaboratory.intrinsic+json": {
              "type": "string"
            }
          },
          "metadata": {},
          "execution_count": 12
        }
      ]
    },
    {
      "cell_type": "markdown",
      "source": [
        "29.write a code to combine two dictionaries into one and print the result"
      ],
      "metadata": {
        "id": "DlMqewc57N61"
      }
    },
    {
      "cell_type": "code",
      "source": [
        "dict1 = {\"a\": 1, \"b\": 2}\n",
        "dict2 = {\"c\": 3, \"d\": 4}\n",
        "combined_dict = dict1.copy()\n",
        "combined_dict.update(dict2)\n",
        "print(combined_dict)"
      ],
      "metadata": {
        "colab": {
          "base_uri": "https://localhost:8080/"
        },
        "id": "3GsiZl7-7IGk",
        "outputId": "9c78594b-c1d9-40eb-e929-e0213f22644b"
      },
      "execution_count": 24,
      "outputs": [
        {
          "output_type": "stream",
          "name": "stdout",
          "text": [
            "{'a': 1, 'b': 2, 'c': 3, 'd': 4}\n"
          ]
        }
      ]
    },
    {
      "cell_type": "markdown",
      "source": [
        "30.Write a code to convert a list of strings into a set"
      ],
      "metadata": {
        "id": "0ADC3TqV9lsb"
      }
    },
    {
      "cell_type": "code",
      "source": [
        "my_list = [\"banana\", \"apple\", \"cherry\"]\n",
        "my_set = set(my_list)\n",
        "print(my_set)\n"
      ],
      "metadata": {
        "colab": {
          "base_uri": "https://localhost:8080/"
        },
        "id": "7iYu_F_m7t9H",
        "outputId": "fff234a3-9859-4dc9-a1d2-af8302e4c836"
      },
      "execution_count": 26,
      "outputs": [
        {
          "output_type": "stream",
          "name": "stdout",
          "text": [
            "{'cherry', 'apple', 'banana'}\n"
          ]
        }
      ]
    },
    {
      "cell_type": "code",
      "source": [],
      "metadata": {
        "id": "46ueZ9qb-AqO"
      },
      "execution_count": null,
      "outputs": []
    }
  ]
}